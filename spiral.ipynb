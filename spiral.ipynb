{
 "cells": [
  {
   "cell_type": "code",
   "execution_count": 1,
   "id": "154bc02f-6a70-4afa-97bc-72804e328468",
   "metadata": {},
   "outputs": [],
   "source": [
    "import turtle\n",
    "import random\n",
    "\n",
    "# Set up the window\n",
    "wn = turtle.Screen()\n",
    "wn.bgcolor(\"black\")\n",
    "wn.title(\"Colorful Spiral\")\n",
    "\n",
    "# Create the turtle\n",
    "tess = turtle.Turtle()\n",
    "tess.speed(0)  # Fastest speed\n",
    "tess.pensize(2)\n",
    "\n",
    "# List of colors\n",
    "colors = [\"red\", \"orange\", \"yellow\", \"green\", \"blue\", \"purple\", \"pink\"]\n",
    "\n",
    "# Spiral parameters\n",
    "side_length = 5   # Initial length\n",
    "angle = 30        # Turning angle\n",
    "increment = 2     # Increase in side length each step\n",
    "\n",
    "# Draw the colorful spiral\n",
    "for i in range(80):  # Number of steps in the spiral\n",
    "    tess.color(random.choice(colors))  # Randomly pick a color\n",
    "    tess.forward(side_length)\n",
    "    tess.right(angle)\n",
    "    side_length += increment  # Increase step length\n",
    "\n",
    "wn.mainloop()"
   ]
  },
  {
   "cell_type": "code",
   "execution_count": null,
   "id": "18d1bd65-b2f9-4a9a-b9ec-6e927ddd01f6",
   "metadata": {},
   "outputs": [],
   "source": []
  }
 ],
 "metadata": {
  "kernelspec": {
   "display_name": "Python 3 (ipykernel)",
   "language": "python",
   "name": "python3"
  },
  "language_info": {
   "codemirror_mode": {
    "name": "ipython",
    "version": 3
   },
   "file_extension": ".py",
   "mimetype": "text/x-python",
   "name": "python",
   "nbconvert_exporter": "python",
   "pygments_lexer": "ipython3",
   "version": "3.12.9"
  }
 },
 "nbformat": 4,
 "nbformat_minor": 5
}
