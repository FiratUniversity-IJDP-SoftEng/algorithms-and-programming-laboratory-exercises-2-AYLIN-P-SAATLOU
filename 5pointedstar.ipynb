{
 "cells": [
  {
   "cell_type": "code",
   "execution_count": 1,
   "id": "aef35a01-bcf0-4ebd-86d9-8db8425db881",
   "metadata": {},
   "outputs": [],
   "source": [
    "import turtle\n",
    "wn = turtle.Screen()\n",
    "wn.bgcolor(\"lightgreen\")      # Set the window background color\n",
    "wn.title(\"Hello, Tess!\")      # Set the window title\n",
    "\n",
    "tess = turtle.Turtle()\n",
    "tess.color(\"blue\")            # Tell tess to change her color\n",
    "tess.pensize(3)               # Tell tess to set her pen width\n",
    "\n",
    "# Draw a five-pointed star\n",
    "for _ in range(5):           \n",
    "    tess.forward(150)         # Move tess forward by 150 units\n",
    "    tess.right(144)           # Turn tess right by 144 degrees\n",
    "\n",
    "wn.mainloop()"
   ]
  },
  {
   "cell_type": "code",
   "execution_count": null,
   "id": "c2a59632-b4e2-4128-a2a4-04f11b88e4a6",
   "metadata": {},
   "outputs": [],
   "source": []
  }
 ],
 "metadata": {
  "kernelspec": {
   "display_name": "Python 3 (ipykernel)",
   "language": "python",
   "name": "python3"
  },
  "language_info": {
   "codemirror_mode": {
    "name": "ipython",
    "version": 3
   },
   "file_extension": ".py",
   "mimetype": "text/x-python",
   "name": "python",
   "nbconvert_exporter": "python",
   "pygments_lexer": "ipython3",
   "version": "3.12.9"
  }
 },
 "nbformat": 4,
 "nbformat_minor": 5
}
