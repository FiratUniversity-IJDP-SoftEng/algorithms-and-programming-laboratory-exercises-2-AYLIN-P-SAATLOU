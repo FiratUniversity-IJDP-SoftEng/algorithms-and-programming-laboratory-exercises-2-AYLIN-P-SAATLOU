{
 "cells": [
  {
   "cell_type": "code",
   "execution_count": 1,
   "id": "430e03de-9866-469d-bd34-c5620fbad64c",
   "metadata": {},
   "outputs": [],
   "source": [
    "import turtle\n",
    "\n",
    "# Set up the window\n",
    "wn = turtle.Screen()\n",
    "wn.bgcolor(\"lightgreen\")\n",
    "wn.title(\"Spiral Square\")\n",
    "\n",
    "# Create the turtle\n",
    "tess = turtle.Turtle()\n",
    "tess.color(\"blue\")\n",
    "tess.pensize(3)\n",
    "\n",
    "# Draw a spiral square\n",
    "side_length = 10  # Initial side length\n",
    "increment = 10     # Amount to increase the side length each step\n",
    "\n",
    "for _ in range(30):  # Number of turns in the spiral\n",
    "    tess.forward(side_length)\n",
    "    tess.right(90)\n",
    "    side_length += increment  # Increase side length\n",
    "\n",
    "wn.mainloop()\n"
   ]
  },
  {
   "cell_type": "code",
   "execution_count": null,
   "id": "5f32ec05-7c63-4df1-afc5-14bd0e90a422",
   "metadata": {},
   "outputs": [],
   "source": []
  }
 ],
 "metadata": {
  "kernelspec": {
   "display_name": "Python 3 (ipykernel)",
   "language": "python",
   "name": "python3"
  },
  "language_info": {
   "codemirror_mode": {
    "name": "ipython",
    "version": 3
   },
   "file_extension": ".py",
   "mimetype": "text/x-python",
   "name": "python",
   "nbconvert_exporter": "python",
   "pygments_lexer": "ipython3",
   "version": "3.12.9"
  }
 },
 "nbformat": 4,
 "nbformat_minor": 5
}
