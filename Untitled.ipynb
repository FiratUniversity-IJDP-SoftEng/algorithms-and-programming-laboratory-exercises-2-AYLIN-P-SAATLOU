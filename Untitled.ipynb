{
 "cells": [
  {
   "cell_type": "code",
   "execution_count": 1,
   "id": "430e03de-9866-469d-bd34-c5620fbad64c",
   "metadata": {},
   "outputs": [],
   "source": [
    "import turtle\n",
    "import math\n",
    "\n",
    "# Set up the window\n",
    "wn = turtle.Screen()\n",
    "wn.bgcolor(\"lightgreen\")\n",
    "wn.title(\"Nested Polygons\")\n",
    "\n",
    "# Create the turtle\n",
    "tess = turtle.Turtle()\n",
    "tess.color(\"blue\")\n",
    "tess.pensize(2)\n",
    "\n",
    "# Function to draw a polygon\n",
    "def draw_polygon(sides, length):\n",
    "    angle = 360 / sides  # Calculate interior angle\n",
    "    for _ in range(sides):\n",
    "        tess.forward(length)\n",
    "        tess.right(angle)\n",
    "\n",
    "# Number of sides for the polygon\n",
    "num_sides = 6  # You can change this for different polygons\n",
    "\n",
    "# Initial side length\n",
    "side_length = 30  \n",
    "increment = 20    # Increase in side length for each polygon\n",
    "num_polygons = 5  # Number of nested polygons\n",
    "\n",
    "for i in range(num_polygons):\n",
    "    # Move turtle to reposition for centering\n",
    "    tess.penup()\n",
    "    tess.goto(-side_length / 2, -math.sqrt(3) * side_length / 6)  # Approximate centering\n",
    "    tess.pendown()\n",
    "\n",
    "    # Draw the polygon\n",
    "    draw_polygon(num_sides, side_length)\n",
    "\n",
    "    # Increase side length for the next polygon\n",
    "    side_length += increment  \n",
    "\n",
    "wn.mainloop()\n"
   ]
  },
  {
   "cell_type": "code",
   "execution_count": null,
   "id": "5f32ec05-7c63-4df1-afc5-14bd0e90a422",
   "metadata": {},
   "outputs": [],
   "source": []
  }
 ],
 "metadata": {
  "kernelspec": {
   "display_name": "Python 3 (ipykernel)",
   "language": "python",
   "name": "python3"
  },
  "language_info": {
   "codemirror_mode": {
    "name": "ipython",
    "version": 3
   },
   "file_extension": ".py",
   "mimetype": "text/x-python",
   "name": "python",
   "nbconvert_exporter": "python",
   "pygments_lexer": "ipython3",
   "version": "3.12.9"
  }
 },
 "nbformat": 4,
 "nbformat_minor": 5
}
