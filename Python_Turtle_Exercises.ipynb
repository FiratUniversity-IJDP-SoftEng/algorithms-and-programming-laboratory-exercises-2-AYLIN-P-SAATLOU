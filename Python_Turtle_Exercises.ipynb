{
 "cells": [
  {
   "cell_type": "markdown",
   "metadata": {
    "id": "ytbzyl3rnDRY"
   },
   "source": [
    "# Python Turtle Exercises\n",
    "\n",
    "This assignment aims to improve your algorithmic skills by drawing various geometric patterns using the Python Turtle library.  \n",
    "Each exercise includes a description and a code cell for your solutions.\n",
    "\n",
    "# Exercise 1: Drawing a Star\n",
    "## Description:\n",
    "Design an algorithm to draw a five-pointed star. Calculate the angle and line length correctly."
   ]
  },
  {
   "cell_type": "code",
   "execution_count": 1,
   "metadata": {
    "id": "3uUSg4xJnUAw"
   },
   "outputs": [],
   "source": [
    "import turtle\n",
    "wn = turtle.Screen()\n",
    "wn.bgcolor(\"lightgreen\")      # Set the window background color\n",
    "wn.title(\"Hello, Tess!\")      # Set the window title\n",
    "\n",
    "tess = turtle.Turtle()\n",
    "tess.color(\"blue\")            # Tell tess to change her color\n",
    "tess.pensize(3)               # Tell tess to set her pen width\n",
    "\n",
    "# Draw a five-pointed star\n",
    "for _ in range(5):           \n",
    "    tess.forward(150)         # Move tess forward by 150 units\n",
    "    tess.right(144)           # Turn tess right by 144 degrees\n",
    "\n",
    "wn.mainloop()"
   ]
  },
  {
   "cell_type": "markdown",
   "metadata": {
    "id": "tGUI2TbgnZYu"
   },
   "source": [
    "# Exercise 2: Drawing a Spiral Square\n",
    "## Description:\n",
    "Design an algorithm to draw a spiral square with increasing side lengths. Consider how to change the turtle's turning angle and movement distance after each square."
   ]
  },
  {
   "cell_type": "code",
   "execution_count": null,
   "metadata": {
    "id": "UAinAy64neJ9"
   },
   "outputs": [],
   "source": [
    "import turtle\n",
    "\n",
    "# Set up the window\n",
    "wn = turtle.Screen()\n",
    "wn.bgcolor(\"lightgreen\")\n",
    "wn.title(\"Spiral Square\")\n",
    "\n",
    "# Create the turtle\n",
    "tess = turtle.Turtle()\n",
    "tess.color(\"blue\")\n",
    "tess.pensize(3)\n",
    "\n",
    "# Draw a spiral square\n",
    "side_length = 10  # Initial side length\n",
    "increment = 10     # Amount to increase the side length each step\n",
    "\n",
    "for _ in range(30):  # Number of turns in the spiral\n",
    "    tess.forward(side_length)\n",
    "    tess.right(90)\n",
    "    side_length += increment  # Increase side length\n",
    "\n",
    "wn.mainloop()\n"
   ]
  },
  {
   "cell_type": "markdown",
   "metadata": {
    "id": "9u3aYlazngbx"
   },
   "source": [
    "# Exercise 3: Drawing Nested Polygons\n",
    "## Description:\n",
    "Design an algorithm to draw nested polygons with the same center and number of sides. Consider how to adjust the size of each polygon and position the turtle while drawing."
   ]
  },
  {
   "cell_type": "code",
   "execution_count": null,
   "metadata": {
    "id": "GvJ5VlvJnoDz"
   },
   "outputs": [],
   "source": []
  },
  {
   "cell_type": "markdown",
   "metadata": {
    "id": "w4S_F7XJnpYI"
   },
   "source": [
    "# Exercise 4: Drawing a Colorful Spiral\n",
    "## Description:\n",
    "Design an algorithm to draw a spiral using different colors. Consider how to change the color at each step and create the spiral shape."
   ]
  },
  {
   "cell_type": "code",
   "execution_count": null,
   "metadata": {
    "id": "e4KCcVxpnuUn"
   },
   "outputs": [],
   "source": []
  },
  {
   "cell_type": "markdown",
   "metadata": {
    "id": "U4JZEptVn74m"
   },
   "source": [
    "# Exercise 5: Drawing a Random Pattern\n",
    "## Description:\n",
    "Design an algorithm to create an interesting pattern by randomly changing the turtle's movements and properties (color, thickness, etc.). Think about how to use randomness and vary different parameters."
   ]
  },
  {
   "cell_type": "code",
   "execution_count": null,
   "metadata": {
    "id": "4nk33NI8m9s1"
   },
   "outputs": [],
   "source": []
  }
 ],
 "metadata": {
  "accelerator": "GPU",
  "colab": {
   "gpuType": "T4",
   "provenance": []
  },
  "kernelspec": {
   "display_name": "Python 3 (ipykernel)",
   "language": "python",
   "name": "python3"
  },
  "language_info": {
   "codemirror_mode": {
    "name": "ipython",
    "version": 3
   },
   "file_extension": ".py",
   "mimetype": "text/x-python",
   "name": "python",
   "nbconvert_exporter": "python",
   "pygments_lexer": "ipython3",
   "version": "3.12.9"
  }
 },
 "nbformat": 4,
 "nbformat_minor": 4
}
