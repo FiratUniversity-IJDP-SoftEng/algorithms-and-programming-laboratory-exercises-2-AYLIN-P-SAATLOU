{
 "cells": [
  {
   "cell_type": "code",
   "execution_count": null,
   "id": "b10e4f3b-7923-484a-9055-14d12450bf50",
   "metadata": {},
   "outputs": [],
   "source": [
    "import turtle\n",
    "import random\n",
    "\n",
    "#Set up the window\n",
    "wn = turtle.Screen()\n",
    "wn.bgcolor(\"black\")\n",
    "wn.title(\"Colorful 8-Shaped Star\")\n",
    "\n",
    "#Create the turtle\n",
    "tess = turtle.Turtle()\n",
    "tess.speed(0) #Fastest speed\n",
    "tess.pensize(2)\n",
    "\n",
    "#List of colors\n",
    "colors = [\"red\", \"orange\", \"yellow\", \"green\", \"blue\", \"purple\", \"pink\"]\n",
    "\n",
    "#Draw the colorful star\n",
    "def draw_star(size):\n",
    "    for _ in range(8):\n",
    "        tess.color(random.choice(colors))\n",
    "        tess.forward(size)\n",
    "        tess.right(135)\n",
    "\n",
    "# Draw the star\n",
    "draw_star(100)\n",
    "\n",
    "# Finish\n",
    "tess.hideturtle()\n",
    "wn.mainloop()"
   ]
  },
  {
   "cell_type": "code",
   "execution_count": null,
   "id": "d85ccd6e-6e4e-4fec-ad30-8ed6eb8ad00e",
   "metadata": {},
   "outputs": [],
   "source": []
  }
 ],
 "metadata": {
  "kernelspec": {
   "display_name": "Python 3 (ipykernel)",
   "language": "python",
   "name": "python3"
  },
  "language_info": {
   "codemirror_mode": {
    "name": "ipython",
    "version": 3
   },
   "file_extension": ".py",
   "mimetype": "text/x-python",
   "name": "python",
   "nbconvert_exporter": "python",
   "pygments_lexer": "ipython3",
   "version": "3.12.9"
  }
 },
 "nbformat": 4,
 "nbformat_minor": 5
}
